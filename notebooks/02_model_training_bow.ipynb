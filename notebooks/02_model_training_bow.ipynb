{
 "cells": [
  {
   "cell_type": "code",
   "execution_count": null,
   "metadata": {},
   "outputs": [],
   "source": [
    "# Импортируем необходимые библиотеки\n",
    "import os\n",
    "import pandas as pd\n",
    "from sklearn.feature_extraction.text import CountVectorizer\n",
    "from sklearn.model_selection import train_test_split\n",
    "from sklearn.naive_bayes import MultinomialNB\n",
    "from sklearn.metrics import accuracy_score\n",
    "import joblib\n",
    "\n",
    "# Загрузим обработанные данные (предположим, что у вас есть папка с .txt файлами)\n",
    "data_folder = 'data/processed'\n",
    "file_list = os.listdir(data_folder)\n",
    "text_data = []\n",
    "\n",
    "for file_name in file_list:\n",
    "    with open(os.path.join(data_folder, file_name), 'r', encoding='utf-8') as file:\n",
    "        text_data.append(file.read())\n",
    "\n",
    "# Создадим векторизатор BoW\n",
    "vectorizer = CountVectorizer(max_features=1000)  # Можно настроить количество фичей\n",
    "\n",
    "# Преобразуем текст в матрицу BoW\n",
    "X_bow = vectorizer.fit_transform(text_data)\n",
    "\n",
    "# Разделим данные на обучающую и тестовую выборки\n",
    "X_train, X_test, y_train, y_test = train_test_split(X_bow, y, test_size=0.2, random_state=42)\n",
    "\n",
    "# Обучим модель\n",
    "model = MultinomialNB()\n",
    "model.fit(X_train, y_train)\n",
    "\n",
    "# Предскажем метки для тестовой выборки\n",
    "y_pred = model.predict(X_test)\n",
    "\n",
    "# Оценим точность модели\n",
    "accuracy = accuracy_score(y_test, y_pred)\n",
    "print(f\"Accuracy: {accuracy:.2f}\")\n",
    "\n",
    "# Сохраним модель и векторизатор\n",
    "joblib.dump(model, 'models/bow_model.pkl')\n",
    "joblib.dump(vectorizer, 'models/bow_vectorizer.pkl')"
   ]
  }
 ],
 "metadata": {
  "language_info": {
   "name": "python"
  }
 },
 "nbformat": 4,
 "nbformat_minor": 2
}
