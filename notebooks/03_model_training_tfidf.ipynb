{
 "cells": [
  {
   "cell_type": "code",
   "execution_count": null,
   "metadata": {},
   "outputs": [],
   "source": [
    "# Импортируем необходимые библиотеки\n",
    "import pandas as pd\n",
    "from sklearn.feature_extraction.text import TfidfVectorizer\n",
    "from sklearn.model_selection import train_test_split\n",
    "from sklearn.linear_model import LogisticRegression\n",
    "import joblib\n",
    "\n",
    "# Загрузим обработанный датасет\n",
    "data_path = 'data/processed/'  # Путь к папке с .txt-книгами\n",
    "book_filenames = ['book1.txt', 'book2.txt', 'book3.txt']  # Пример списка файлов\n",
    "corpus = []\n",
    "for filename in book_filenames:\n",
    "    with open(data_path + filename, 'r', encoding='utf-8') as file:\n",
    "        text = file.read()\n",
    "        corpus.append(text)\n",
    "\n",
    "# Создадим векторизатор TF-IDF\n",
    "vectorizer = TfidfVectorizer(max_features=5000)  # Можно настроить количество фичей\n",
    "X = vectorizer.fit_transform(corpus)\n",
    "\n",
    "# Разделим данные на обучающую и тестовую выборки\n",
    "X_train, X_test = train_test_split(X, test_size=0.2, random_state=42)\n",
    "\n",
    "# Обучим модель (например, логистическую регрессию)\n",
    "model = LogisticRegression(max_iter=1000)\n",
    "model.fit(X_train, y_train)  # Предполагается, что у вас есть целевая переменная y_train\n",
    "\n",
    "# Оценим модель (например, по метрике F1-score)\n",
    "y_pred = model.predict(X_test)\n",
    "f1_score = f1_score(y_test, y_pred)  # Предполагается, что у вас есть целевая переменная y_test\n",
    "\n",
    "# Сохраним модель и векторизатор\n",
    "joblib.dump(model, 'models/tfidf_model/tfidf_model.pkl')\n",
    "joblib.dump(vectorizer, 'models/tfidf_model/tfidf_vectorizer.pkl')\n",
    "\n",
    "print(f\"Модель обучена и сохранена в 'models/tfidf_model'. F1-score: {f1_score:.4f}\")\n"
   ]
  }
 ],
 "metadata": {
  "language_info": {
   "name": "python"
  }
 },
 "nbformat": 4,
 "nbformat_minor": 2
}
